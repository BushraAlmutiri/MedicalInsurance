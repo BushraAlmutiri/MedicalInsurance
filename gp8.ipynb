{
  "nbformat": 4,
  "nbformat_minor": 0,
  "metadata": {
    "colab": {
      "provenance": [],
      "authorship_tag": "ABX9TyOSjczQHWe40UrRtnHSw3es",
      "include_colab_link": true
    },
    "kernelspec": {
      "name": "python3",
      "display_name": "Python 3"
    },
    "language_info": {
      "name": "python"
    },
    "accelerator": "TPU"
  },
  "cells": [
    {
      "cell_type": "markdown",
      "metadata": {
        "id": "view-in-github",
        "colab_type": "text"
      },
      "source": [
        "<a href=\"https://colab.research.google.com/github/BushraAlmutiri/MedicalInsurance/blob/main/gp8.ipynb\" target=\"_parent\"><img src=\"https://colab.research.google.com/assets/colab-badge.svg\" alt=\"Open In Colab\"/></a>"
      ]
    },
    {
      "cell_type": "code",
      "execution_count": null,
      "metadata": {
        "id": "beI0z8n0x8vn"
      },
      "outputs": [],
      "source": [
        "import matplotlib.pyplot as plt\n",
        "from matplotlib import style\n",
        "import seaborn as sns\n",
        "from flask import Flask, request, jsonify\n",
        "import sqlite3\n",
        "import numpy as np\n",
        "import pandas as pd\n",
        "from sklearn.linear_model import LinearRegression\n",
        "from sklearn.svm import SVR\n",
        "from sklearn.tree import DecisionTreeRegressor\n",
        "from sklearn.model_selection import train_test_split\n",
        "import pickle\n",
        "from sklearn.metrics import mean_squared_error, mean_absolute_error"
      ]
    },
    {
      "cell_type": "code",
      "source": [
        "app = Flask(__name__)\n",
        "conn = sqlite3.connect('insurance.db')\n",
        "c = conn.cursor()"
      ],
      "metadata": {
        "id": "wrDgmcaz0eTo"
      },
      "execution_count": null,
      "outputs": []
    },
    {
      "cell_type": "code",
      "source": [
        "def load_dataset():\n",
        "    df = pd.read_csv(\"insurance.csv\")\n",
        "    return df"
      ],
      "metadata": {
        "id": "CHSww-Qv0eKh"
      },
      "execution_count": null,
      "outputs": []
    },
    {
      "cell_type": "code",
      "source": [
        "def preprocess_data(df):\n",
        "    df['sex'] = df['sex'].apply({'male': 0, 'female': 1}.get)\n",
        "    df['smoker'] = df['smoker'].apply({'yes': 1, 'no': 0}.get)\n",
        "    df['region'] = df['region'].apply({'southwest': 1, 'southeast': 2, 'northwest': 3, 'northeast': 4}.get)\n",
        "    return df"
      ],
      "metadata": {
        "id": "FbF_J3kF0eCD"
      },
      "execution_count": null,
      "outputs": []
    },
    {
      "cell_type": "code",
      "source": [
        "def train_models(X_train, y_train):\n",
        "    linear_regression_model = LinearRegression()\n",
        "    svr_model = SVR()\n",
        "    decision_tree_model = DecisionTreeRegressor()\n",
        "\n",
        "    linear_regression_model.fit(X_train, y_train)\n",
        "    svr_model.fit(X_train, y_train)\n",
        "    decision_tree_model.fit(X_train, y_train)\n",
        "\n",
        "    return linear_regression_model, svr_model, decision_tree_model"
      ],
      "metadata": {
        "id": "F9xGb6-30d0U"
      },
      "execution_count": null,
      "outputs": []
    },
    {
      "cell_type": "code",
      "source": [
        "def make_predictions(models, input_data):\n",
        "    linear_regression_prediction = models[0].predict(input_data)[0]\n",
        "    svr_prediction = models[1].predict(input_data)[0]\n",
        "    decision_tree_prediction = models[2].predict(input_data)[0]\n",
        "\n",
        "    return linear_regression_prediction, svr_prediction, decision_tree_prediction"
      ],
      "metadata": {
        "id": "kS4YPHr00drW"
      },
      "execution_count": null,
      "outputs": []
    },
    {
      "cell_type": "code",
      "source": [
        "def determine_best_model(mse_values):\n",
        "    linear_regression_mse, svr_mse, decision_tree_mse = mse_values\n",
        "\n",
        "    if linear_regression_mse <= svr_mse and linear_regression_mse <= decision_tree_mse:\n",
        "        return 'Linear Regression'\n",
        "    elif svr_mse <= linear_regression_mse and svr_mse <= decision_tree_mse:\n",
        "        return 'Support Vector Regression'\n",
        "    else:\n",
        "        return 'Decision Tree'"
      ],
      "metadata": {
        "id": "K_cgMSbi0dgp"
      },
      "execution_count": null,
      "outputs": []
    },
    {
      "cell_type": "code",
      "source": [
        "c.execute('''CREATE TABLE IF NOT EXISTS predictions\n",
        "             (age INTEGER, sex INTEGER, bmi REAL, children INTEGER, smoker INTEGER, region INTEGER,\n",
        "             linear_regression_prediction REAL, svr_prediction REAL, decision_tree_prediction REAL, best_model TEXT)''')"
      ],
      "metadata": {
        "id": "EGM7hAVW-Rkw"
      },
      "execution_count": null,
      "outputs": []
    },
    {
      "cell_type": "code",
      "source": [
        "def insert_predictions(input_values, predictions, best_model):\n",
        "    c.execute(\"INSERT INTO predictions VALUES (?, ?, ?, ?, ?, ?, ?, ?, ?)\",\n",
        "              (input_values[0], input_values[1], input_values[2], input_values[3], input_values[4], input_values[5],\n",
        "               predictions[0], predictions[1], predictions[2], best_model))\n",
        "    conn.commit()"
      ],
      "metadata": {
        "id": "A58yJgu80dPr"
      },
      "execution_count": null,
      "outputs": []
    },
    {
      "cell_type": "code",
      "source": [
        "def perform_prediction(input_data):\n",
        "    input_values = [input_data['age'], input_data['sex'], input_data['bmi'], input_data['children'], input_data['smoker'], input_data['region']]\n",
        "    input_data = np.array([input_values])\n",
        "\n",
        "    return input_data"
      ],
      "metadata": {
        "id": "yz-vY1bZ1Hm6"
      },
      "execution_count": null,
      "outputs": []
    },
    {
      "cell_type": "code",
      "source": [
        "linear_regression_model, svr_model, decision_tree_model = None, None, None"
      ],
      "metadata": {
        "id": "oV5tQvvh56K6"
      },
      "execution_count": null,
      "outputs": []
    },
    {
      "cell_type": "code",
      "source": [
        "@app.route('/predict', methods=['POST'])\n",
        "def predict():\n",
        "    input_data = request.get_json()\n",
        "    input_data_array = perform_prediction(input_data)"
      ],
      "metadata": {
        "id": "JAriezEzEGT7"
      },
      "execution_count": null,
      "outputs": []
    },
    {
      "cell_type": "code",
      "source": [
        "with open('linear_regression_model.pkl', 'wb') as f:\n",
        "        pickle.dump(linear_regression_model, f)\n",
        "\n",
        "with open('svr_model.pkl', 'wb') as f:\n",
        "        pickle.dump(svr_model, f)\n",
        "\n",
        "with open('decision_tree_model.pkl', 'wb') as f:\n",
        "        pickle.dump(decision_tree_model, f)\n",
        "\n",
        "app.run(debug=True)"
      ],
      "metadata": {
        "id": "S7hXv3s4_wBy",
        "colab": {
          "base_uri": "https://localhost:8080/"
        },
        "outputId": "b861e85f-f538-46cd-e828-bb1d39b482c8"
      },
      "execution_count": null,
      "outputs": [
        {
          "metadata": {
            "tags": null
          },
          "name": "stdout",
          "output_type": "stream",
          "text": [
            " * Serving Flask app '__main__'\n",
            " * Debug mode: on\n"
          ]
        },
        {
          "metadata": {
            "tags": null
          },
          "name": "stderr",
          "output_type": "stream",
          "text": [
            "INFO:werkzeug:\u001b[31m\u001b[1mWARNING: This is a development server. Do not use it in a production deployment. Use a production WSGI server instead.\u001b[0m\n",
            " * Running on http://127.0.0.1:5000\n",
            "INFO:werkzeug:\u001b[33mPress CTRL+C to quit\u001b[0m\n",
            "INFO:werkzeug: * Restarting with stat\n"
          ]
        }
      ]
    },
    {
      "source": [
        "def load_linear_regression_model():\n",
        "    try:\n",
        "        with open('linear_regression_model.pkl', 'rb') as f:\n",
        "            linear_regression_model = pickle.load(f)\n",
        "    except Exception as e:\n",
        "        print(\"Error loading linear regression model:\", e)\n",
        "        return jsonify({\"error\": \"Failed to load linear regression model\"})\n",
        "\n",
        "def load_svr_model():\n",
        "    try:\n",
        "        with open('svr_model.pkl', 'rb') as f:\n",
        "            svr_model = pickle.load(f)\n",
        "    except Exception as e:\n",
        "        print(\"Error loading SVR model:\", e)\n",
        "        return jsonify({\"error\": \"Failed to load SVR model\"})\n",
        "\n",
        "def load_decision_tree_model():\n",
        "    try:\n",
        "        with open('decision_tree_model.pkl', 'rb') as f:\n",
        "            decision_tree_model = pickle.load(f)\n",
        "    except Exception as e:\n",
        "        print(\"Error loading Decision Tree model:\", e)\n",
        "        return None"
      ],
      "cell_type": "code",
      "metadata": {
        "id": "l1wZCoblBSjQ"
      },
      "execution_count": null,
      "outputs": []
    },
    {
      "cell_type": "code",
      "source": [
        "def check_model_load_status(linear_regression_model, svr_model, decision_tree_model):\n",
        "    if linear_regression_model is None or svr_model is None or decision_tree_model is None:\n",
        "        return True\n",
        "    else:\n",
        "        return False"
      ],
      "metadata": {
        "id": "0iJ-SaAnBrw-"
      },
      "execution_count": null,
      "outputs": []
    },
    {
      "cell_type": "code",
      "source": [
        "def extract_input_features(input_data):\n",
        "    input_values = [input_data['age'], input_data['sex'], input_data['bmi'], input_data['children'], input_data['smoker'], input_data['region']]\n",
        "    input_data_array = np.array([input_values])\n",
        "    return input_data_array"
      ],
      "metadata": {
        "id": "yyKf-czPDMVG"
      },
      "execution_count": null,
      "outputs": []
    },
    {
      "source": [
        "input_data_array = np.array([[10, 100]])"
      ],
      "cell_type": "code",
      "metadata": {
        "id": "Z5swbtiHCriA"
      },
      "execution_count": null,
      "outputs": []
    },
    {
      "cell_type": "code",
      "source": [
        "linear_regression_prediction = linear_regression_model.predict(input_data_array)[0]\n",
        "svr_prediction = svr_model.predict(input_data_array)[0]\n",
        "decision_tree_prediction = decision_tree_model.predict(input_data_array)[0]"
      ],
      "metadata": {
        "id": "C94ZwSGF_ysL"
      },
      "execution_count": null,
      "outputs": []
    },
    {
      "cell_type": "code",
      "source": [
        "mse_values = (\n",
        "        mean_squared_error(y_test, linear_regression_predictions),\n",
        "        mean_squared_error(y_test, svr_predictions),\n",
        "        mean_squared_error(y_test, decision_tree_predictions)\n",
        "    )\n",
        "\n",
        "    best_model = determine_best_model(mse_values)\n",
        "\n",
        "\n",
        "    insert_predictions(input_values, (linear_regression_prediction, svr_prediction, decision_tree_prediction), best_model)\n",
        "\n",
        "    return jsonify(linear_regression_prediction)"
      ],
      "metadata": {
        "id": "xUv7DPk1_37K"
      },
      "execution_count": null,
      "outputs": []
    },
    {
      "source": [
        "mse_values = (\n",
        "    mean_squared_error(y_test, linear_regression_predictions),\n",
        "    mean_squared_error(y_test, svr_predictions),\n",
        "    mean_squared_error(y_test, decision_tree_predictions)\n",
        ")\n",
        "\n",
        "best_model = determine_best_model(mse_values)\n",
        "\n",
        "insert_predictions(input_values, (linear_regression_prediction, svr_prediction, decision_tree_prediction), best_model)\n",
        "\n",
        "return jsonify(linear_regression_prediction)"
      ],
      "cell_type": "code",
      "metadata": {
        "id": "CF3f6U-uDYhN"
      },
      "execution_count": null,
      "outputs": []
    },
    {
      "cell_type": "code",
      "source": [
        "if __name__ == '__main__':\n",
        "    df = load_dataset()\n",
        "    df = preprocess_data(df)\n",
        "\n",
        "    X = df[['age', 'sex', 'bmi', 'children', 'smoker', 'region']]\n",
        "    y = df['charges']\n",
        "\n",
        "    X_train, X_test, y_train, y_test = train_test_split(X, y, test_size=0.2, random_state=42)\n",
        "\n",
        "    linear_regression_model, svr_model, decision_tree_model = train_models(X_train, y_train)"
      ],
      "metadata": {
        "id": "wphx78xd6Pig"
      },
      "execution_count": null,
      "outputs": []
    }
  ]
}