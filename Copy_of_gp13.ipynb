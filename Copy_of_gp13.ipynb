{
  "cells": [
    {
      "cell_type": "markdown",
      "metadata": {
        "id": "view-in-github",
        "colab_type": "text"
      },
      "source": [
        "<a href=\"https://colab.research.google.com/github/BushraAlmutiri/MedicalInsurance/blob/main/Copy_of_gp13.ipynb\" target=\"_parent\"><img src=\"https://colab.research.google.com/assets/colab-badge.svg\" alt=\"Open In Colab\"/></a>"
      ]
    },
    {
      "cell_type": "code",
      "execution_count": null,
      "metadata": {
        "id": "LnxPkO-eFMTN"
      },
      "outputs": [],
      "source": [
        "import matplotlib.pyplot as plt\n",
        "from matplotlib import style\n",
        "import seaborn as sns\n",
        "from flask import Flask, request, jsonify\n",
        "import sqlite3\n",
        "import numpy as np\n",
        "import pandas as pd\n",
        "from sklearn.linear_model import LinearRegression\n",
        "from sklearn.svm import SVR\n",
        "from sklearn.tree import DecisionTreeRegressor\n",
        "from sklearn.model_selection import train_test_split\n",
        "import pickle\n",
        "from sklearn.metrics import mean_squared_error, mean_absolute_error\n",
        "import requests\n",
        "import tensorflow as tf\n",
        "import tensorflowjs as tfjs\n",
        "from tensorflow.keras.models import Sequential\n",
        "from tensorflow.keras.layers import Dense"
      ]
    },
    {
      "cell_type": "code",
      "execution_count": null,
      "metadata": {
        "id": "1xwcku2jFb_V"
      },
      "outputs": [],
      "source": [
        "app = Flask(__name__)"
      ]
    },
    {
      "cell_type": "code",
      "execution_count": null,
      "metadata": {
        "id": "4SQ8SfgDFgv0"
      },
      "outputs": [],
      "source": [
        "df = pd.read_csv(\"insurance.csv\") #loadDataSet"
      ]
    },
    {
      "cell_type": "code",
      "execution_count": null,
      "metadata": {
        "id": "0TI-ftvZFovw"
      },
      "outputs": [],
      "source": [
        "df.head()"
      ]
    },
    {
      "cell_type": "code",
      "execution_count": null,
      "metadata": {
        "id": "BaAdP2tqFr--"
      },
      "outputs": [],
      "source": [
        "df.shape"
      ]
    },
    {
      "cell_type": "code",
      "execution_count": null,
      "metadata": {
        "id": "13PNP-GiFvS1"
      },
      "outputs": [],
      "source": [
        "df.info() #dataFrame"
      ]
    },
    {
      "cell_type": "code",
      "execution_count": null,
      "metadata": {
        "id": "W1qN8eATFyJw"
      },
      "outputs": [],
      "source": [
        "df.columns"
      ]
    },
    {
      "cell_type": "code",
      "execution_count": null,
      "metadata": {
        "id": "ujna-U_TF0N1"
      },
      "outputs": [],
      "source": [
        "df.describe()"
      ]
    },
    {
      "cell_type": "code",
      "execution_count": null,
      "metadata": {
        "id": "y_jvl7jsF2dG"
      },
      "outputs": [],
      "source": [
        "plt.figure(figsize=(4,4))\n",
        "sns.countplot(x='smoker', data=df)\n",
        "plt.title('Smoker')\n",
        "plt.show()"
      ]
    },
    {
      "cell_type": "code",
      "execution_count": null,
      "metadata": {
        "id": "sTTWfrwdF4Yb"
      },
      "outputs": [],
      "source": [
        "plt.figure(figsize=(4,4))\n",
        "style.use('ggplot')\n",
        "sns.countplot(x='sex', data=df)\n",
        "plt.title('Gender')\n",
        "plt.show()"
      ]
    },
    {
      "cell_type": "code",
      "execution_count": null,
      "metadata": {
        "id": "XQHqXyX-F6fh"
      },
      "outputs": [],
      "source": [
        "plt.figure(figsize=(4,4))\n",
        "sns.countplot(x='region', data=df)\n",
        "plt.title('Region')\n",
        "plt.show()"
      ]
    },
    {
      "cell_type": "code",
      "execution_count": null,
      "metadata": {
        "id": "RzVXgbhnF8lo"
      },
      "outputs": [],
      "source": [
        "plt.figure(figsize=(5,5))\n",
        "sns.barplot(x='region', y='charges', data=df)\n",
        "plt.title(' charges vs Region')"
      ]
    },
    {
      "cell_type": "code",
      "execution_count": null,
      "metadata": {
        "id": "zL-8vSTsF-Y3"
      },
      "outputs": [],
      "source": [
        "plt.figure(figsize=(4,4))\n",
        "sns.barplot(x='sex', y='charges',hue='smoker', data=df)\n",
        "plt.title('Charges for smokers')"
      ]
    },
    {
      "cell_type": "code",
      "execution_count": null,
      "metadata": {
        "id": "vO46HoxZGG86"
      },
      "outputs": [],
      "source": [
        "plt.figure(figsize=(10, 6))\n",
        "sns.histplot(data=df, x='bmi', bins=20, kde=True)\n",
        "plt.title(\"Distribution of BMI\")\n",
        "plt.xlabel(\"BMI\")\n",
        "plt.ylabel(\"Count\")\n",
        "plt.show()"
      ]
    },
    {
      "cell_type": "code",
      "execution_count": null,
      "metadata": {
        "id": "nGiz64auGKJH"
      },
      "outputs": [],
      "source": [
        "correlation_matrix = df.corr()\n",
        "print(\"Correlation Matrix:\")\n",
        "print(correlation_matrix)\n",
        "plt.figure(figsize=(10, 8))\n",
        "sns.heatmap(correlation_matrix, annot=True, cmap=\"coolwarm\")\n",
        "plt.title(\"Correlation Matrix\")\n",
        "correlation_matrix = df.corr(numeric_only=True)\n",
        "plt.show()"
      ]
    },
    {
      "cell_type": "code",
      "execution_count": null,
      "metadata": {
        "id": "goNUjZIuGMOK"
      },
      "outputs": [],
      "source": [
        "df['sex'] = df['sex'].apply({'male': 0, 'female': 1}.get)\n",
        "df['smoker'] = df['smoker'].apply({'yes': 1, 'no': 0}.get)\n",
        "df['region'] = df['region'].apply({'southwest': 1, 'southeast': 2, 'northwest': 3, 'northeast': 4}.get)"
      ]
    },
    {
      "cell_type": "code",
      "execution_count": null,
      "metadata": {
        "id": "5Ea-FFIUGR33"
      },
      "outputs": [],
      "source": [
        "X = df[['age', 'sex', 'bmi', 'children', 'smoker', 'region']]\n",
        "y = df['charges']"
      ]
    },
    {
      "cell_type": "code",
      "execution_count": null,
      "metadata": {
        "id": "DVkjkisHGVXU"
      },
      "outputs": [],
      "source": [
        "X_train, X_test, y_train, y_test = train_test_split(X, y, test_size=0.2, random_state=42)"
      ]
    },
    {
      "cell_type": "code",
      "execution_count": null,
      "metadata": {
        "id": "VMsbrCu5GX1T"
      },
      "outputs": [],
      "source": [
        "linear_regression_model = LinearRegression()\n",
        "svr_model = SVR()\n",
        "decision_tree_model = DecisionTreeRegressor()"
      ]
    },
    {
      "cell_type": "code",
      "execution_count": null,
      "metadata": {
        "id": "_P31-aJeGZ53"
      },
      "outputs": [],
      "source": [
        "linear_regression_model.fit(X_train, y_train)"
      ]
    },
    {
      "cell_type": "code",
      "execution_count": null,
      "metadata": {
        "id": "OuppIA0VGb-Q"
      },
      "outputs": [],
      "source": [
        "svr_model.fit(X_train, y_train)"
      ]
    },
    {
      "cell_type": "code",
      "execution_count": null,
      "metadata": {
        "id": "LzfEG0XpGeOA"
      },
      "outputs": [],
      "source": [
        "decision_tree_model.fit(X_train, y_train)"
      ]
    },
    {
      "cell_type": "code",
      "execution_count": null,
      "metadata": {
        "id": "IuXz7qcmGhmA"
      },
      "outputs": [],
      "source": [
        "linear_regression_predictions = linear_regression_model.predict(X_test)"
      ]
    },
    {
      "cell_type": "code",
      "execution_count": null,
      "metadata": {
        "id": "zLiKChhBGki5"
      },
      "outputs": [],
      "source": [
        "svr_predictions = svr_model.predict(X_test)"
      ]
    },
    {
      "cell_type": "code",
      "execution_count": null,
      "metadata": {
        "id": "eOI-ti8pGmX_"
      },
      "outputs": [],
      "source": [
        "decision_tree_predictions = decision_tree_model.predict(X_test)"
      ]
    },
    {
      "cell_type": "code",
      "execution_count": null,
      "metadata": {
        "id": "-fmIYcT5vIEy"
      },
      "outputs": [],
      "source": [
        "model = Sequential([\n",
        "    Dense(64, activation='relu', input_shape=(6,)),\n",
        "    Dense(64, activation='relu'),\n",
        "    Dense(1)\n",
        "])\n",
        "model.compile(optimizer='adam', loss='mean_squared_error', metrics=['mae'])\n",
        "model.fit(X_train, y_train, epochs=10, batch_size=32, verbose=0)"
      ]
    },
    {
      "cell_type": "code",
      "execution_count": null,
      "metadata": {
        "id": "gLPC0zksGod7"
      },
      "outputs": [],
      "source": [
        "with open('linear_regression_model.pkl', 'wb') as f:\n",
        "        pickle.dump(linear_regression_model, f)\n",
        "\n",
        "with open('svr_model.pkl', 'wb') as f:\n",
        "        pickle.dump(svr_model, f)\n",
        "\n",
        "with open('decision_tree_model.pkl', 'wb') as f:\n",
        "        pickle.dump(decision_tree_model, f)"
      ]
    },
    {
      "cell_type": "code",
      "source": [
        "file_path = 'model.h5'\n",
        "with open(file_path, 'w') as file:\n",
        "    file.write('This is a sample file named model.')"
      ],
      "metadata": {
        "id": "hIW6q_xrTWZU"
      },
      "execution_count": null,
      "outputs": []
    },
    {
      "cell_type": "code",
      "source": [
        "print(os.path.exists(file_path))"
      ],
      "metadata": {
        "id": "Cx1n88kGTY5-"
      },
      "execution_count": null,
      "outputs": []
    },
    {
      "cell_type": "code",
      "source": [
        "model.save('model.h5')"
      ],
      "metadata": {
        "id": "viUcxLUdTbLv"
      },
      "execution_count": null,
      "outputs": []
    },
    {
      "cell_type": "code",
      "source": [
        "model = tf.keras.models.load_model('model.h5')"
      ],
      "metadata": {
        "id": "L-aM_0cQTdGI"
      },
      "execution_count": null,
      "outputs": []
    },
    {
      "cell_type": "code",
      "source": [
        "converter = tf.lite.TFLiteConverter.from_keras_model(model)\n",
        "tflite_model = converter.convert()\n",
        "with open('converted_model.tflite', 'wb') as f:\n",
        "    f.write(tflite_model)"
      ],
      "metadata": {
        "id": "WKWScs8bTf7c"
      },
      "execution_count": null,
      "outputs": []
    },
    {
      "cell_type": "code",
      "source": [
        "tfjs.converters.save_keras_model(model, './path/to/web/servable')"
      ],
      "metadata": {
        "id": "1x9xBzV0TlbA"
      },
      "execution_count": null,
      "outputs": []
    },
    {
      "cell_type": "code",
      "execution_count": null,
      "metadata": {
        "id": "SiupEHqUGpz1"
      },
      "outputs": [],
      "source": [
        "data = {'age':19 , 'sex':1 , 'bmi':27.9 , 'children':0 , 'smoker':1 , 'region':1 }\n",
        "index = [0]"
      ]
    },
    {
      "cell_type": "code",
      "execution_count": null,
      "metadata": {
        "id": "2j5LczGtGuX-"
      },
      "outputs": [],
      "source": [
        "cust_df = pd.DataFrame(data, index)"
      ]
    },
    {
      "cell_type": "code",
      "execution_count": null,
      "metadata": {
        "id": "Nv9HpjqGGxiE"
      },
      "outputs": [],
      "source": [
        "print(cust_df)"
      ]
    },
    {
      "cell_type": "code",
      "execution_count": null,
      "metadata": {
        "id": "eRxj15OxG0Un"
      },
      "outputs": [],
      "source": [
        "cust_df = cust_df[['age', 'sex', 'bmi', 'children', 'smoker', 'region']]"
      ]
    },
    {
      "cell_type": "code",
      "execution_count": null,
      "metadata": {
        "id": "68l1xQxFG3E0"
      },
      "outputs": [],
      "source": [
        "cost_pred_linear_regression = linear_regression_model.predict(cust_df)"
      ]
    },
    {
      "cell_type": "code",
      "execution_count": null,
      "metadata": {
        "id": "VlfcWRRKG5Dk"
      },
      "outputs": [],
      "source": [
        "print(\"Linear Regression Prediction:\", cost_pred_linear_regression)"
      ]
    },
    {
      "cell_type": "code",
      "execution_count": null,
      "metadata": {
        "id": "dCZXoV2cG67I"
      },
      "outputs": [],
      "source": [
        "cost_pred_svr = svr_model.predict(cust_df)"
      ]
    },
    {
      "cell_type": "code",
      "execution_count": null,
      "metadata": {
        "id": "6dsvpzlDG9FZ"
      },
      "outputs": [],
      "source": [
        "print(\"SVR Prediction:\", cost_pred_svr)"
      ]
    },
    {
      "cell_type": "code",
      "execution_count": null,
      "metadata": {
        "id": "gggQqbIxG_XK"
      },
      "outputs": [],
      "source": [
        "cost_pred_decision_tree = decision_tree_model.predict(cust_df)"
      ]
    },
    {
      "cell_type": "code",
      "execution_count": null,
      "metadata": {
        "id": "NA3LA2-xHBia"
      },
      "outputs": [],
      "source": [
        "print(\"Decision Tree Prediction:\", cost_pred_decision_tree)"
      ]
    },
    {
      "cell_type": "code",
      "execution_count": null,
      "metadata": {
        "id": "kQbcSWUPHDiM"
      },
      "outputs": [],
      "source": [
        "linear_regression_mse = mean_squared_error(y_test, linear_regression_predictions)"
      ]
    },
    {
      "cell_type": "code",
      "execution_count": null,
      "metadata": {
        "id": "sc3FBwMiHGYf"
      },
      "outputs": [],
      "source": [
        "print(\"Mean Squared Error Linear Regression:\", linear_regression_mse)"
      ]
    },
    {
      "cell_type": "code",
      "execution_count": null,
      "metadata": {
        "id": "Rdw4MFE5HIiq"
      },
      "outputs": [],
      "source": [
        "svr_mse = mean_squared_error(y_test, svr_predictions)"
      ]
    },
    {
      "cell_type": "code",
      "execution_count": null,
      "metadata": {
        "id": "o7249pvuHKgU"
      },
      "outputs": [],
      "source": [
        "print(\"Mean Squared Error SVR:\", svr_mse)"
      ]
    },
    {
      "cell_type": "code",
      "execution_count": null,
      "metadata": {
        "id": "n8ChoFb3HMcQ"
      },
      "outputs": [],
      "source": [
        "decision_tree_mse = mean_squared_error(y_test, decision_tree_predictions)"
      ]
    },
    {
      "cell_type": "code",
      "execution_count": null,
      "metadata": {
        "id": "GI9CzAshHOdT"
      },
      "outputs": [],
      "source": [
        "print(\"Mean Squared Error Decision Tree :\", decision_tree_mse)"
      ]
    },
    {
      "cell_type": "code",
      "execution_count": null,
      "metadata": {
        "id": "SO1nRdp4HQf1"
      },
      "outputs": [],
      "source": [
        "conn = sqlite3.connect('medical_insurance.db')"
      ]
    },
    {
      "cell_type": "code",
      "execution_count": null,
      "metadata": {
        "id": "oD_ZodciHRpi"
      },
      "outputs": [],
      "source": [
        "c = conn.cursor()"
      ]
    },
    {
      "cell_type": "code",
      "execution_count": null,
      "metadata": {
        "id": "ZyjadwJHHZqs"
      },
      "outputs": [],
      "source": [
        "c.execute('''CREATE TABLE IF NOT EXISTS predictions\n",
        "       (age INTEGER, sex INTEGER, bmi REAL, children INTEGER, smoker INTEGER, region INTEGER,\n",
        "        linear_regression_prediction REAL, svr_prediction REAL, decision_tree_prediction REAL, best_model TEXT,  email TEXT, name TEXT)''')"
      ]
    },
    {
      "cell_type": "code",
      "execution_count": null,
      "metadata": {
        "id": "rh8hlI8hwWOo"
      },
      "outputs": [],
      "source": [
        "@app.route('/predict', methods=['POST'])\n",
        "def predict():\n",
        "    input_data = request.json"
      ]
    },
    {
      "cell_type": "code",
      "execution_count": null,
      "metadata": {
        "id": "M6DN8764He3d"
      },
      "outputs": [],
      "source": [
        "input_data = {\n",
        "        'age': 25,\n",
        "        'sex': 1,\n",
        "        'bmi': 27.9,\n",
        "        'children': 2,\n",
        "        'smoker': 0,\n",
        "        'region': 3,\n",
        "    }"
      ]
    },
    {
      "cell_type": "code",
      "execution_count": null,
      "metadata": {
        "id": "QK7OrjVYhkXd"
      },
      "outputs": [],
      "source": [
        "if input_data:\n",
        "        age = input_data.get('age')\n",
        "        sex = input_data.get('sex')\n",
        "        bmi = input_data.get('bmi')\n",
        "        children = input_data.get('children')\n",
        "        smoker = input_data.get('smoker')\n",
        "        region = input_data.get('region')"
      ]
    },
    {
      "cell_type": "code",
      "execution_count": null,
      "metadata": {
        "id": "yOxAgsbfxUJ1"
      },
      "outputs": [],
      "source": [
        "def check_input_data(age, sex, bmi, children, smoker, region):\n",
        "    if None in (age, sex, bmi, children, smoker, region):\n",
        "        return jsonify({'error': 'Some keys are missing in the input data.'}), 400"
      ]
    },
    {
      "cell_type": "code",
      "execution_count": null,
      "metadata": {
        "id": "6_9LzsA8xdBw"
      },
      "outputs": [],
      "source": [
        "cust_df = pd.DataFrame({'age': [age], 'sex': [sex], 'bmi': [bmi], 'children': [children], 'smoker': [smoker], 'region': [region]})"
      ]
    },
    {
      "cell_type": "code",
      "execution_count": null,
      "metadata": {
        "id": "g9uLGU_txtq1"
      },
      "outputs": [],
      "source": [
        "input_data = np.array([[25, 1, 27.9, 2, 0, 3]])  # Convert input data to a 2D array\n",
        "linear_regression_prediction = linear_regression_model.predict(input_data)[0]\n",
        "svr_prediction = svr_model.predict(input_data)[0]\n",
        "decision_tree_prediction = decision_tree_model.predict(input_data)[0]"
      ]
    },
    {
      "cell_type": "code",
      "execution_count": null,
      "metadata": {
        "id": "sv6cq1nAHo5p"
      },
      "outputs": [],
      "source": [
        "linear_regression_mse = mean_squared_error(y_test, linear_regression_predictions)\n",
        "svr_mse = mean_squared_error(y_test, svr_predictions)\n",
        "decision_tree_mse = mean_squared_error(y_test, decision_tree_predictions)"
      ]
    },
    {
      "cell_type": "code",
      "execution_count": null,
      "metadata": {
        "id": "KlLuI2EIHseL"
      },
      "outputs": [],
      "source": [
        "best_model = None"
      ]
    },
    {
      "cell_type": "code",
      "execution_count": null,
      "metadata": {
        "id": "mcHm29CqHux5"
      },
      "outputs": [],
      "source": [
        "if linear_regression_mse <= svr_mse and linear_regression_mse <= decision_tree_mse:\n",
        "    best_model = 'Linear Regression'\n",
        "    best_prediction = linear_regression_prediction\n",
        "elif svr_mse <= linear_regression_mse and svr_mse <= decision_tree_mse:\n",
        "    best_model = 'Support Vector Regression'\n",
        "    best_prediction = svr_prediction\n",
        "else:\n",
        "    best_model = 'Decision Tree'\n",
        "    best_prediction = decision_tree_prediction"
      ]
    },
    {
      "cell_type": "code",
      "execution_count": null,
      "metadata": {
        "id": "NMvEqF9em4SV"
      },
      "outputs": [],
      "source": [
        "input_data = {\n",
        "    'name': 'fahad',\n",
        "    'email': 'fahad@outlook.com'\n",
        "}"
      ]
    },
    {
      "cell_type": "code",
      "execution_count": null,
      "metadata": {
        "id": "bikpFAjOnDXy"
      },
      "outputs": [],
      "source": [
        "if input_data:\n",
        "        name = input_data.get('name')\n",
        "        email = input_data.get('email')"
      ]
    },
    {
      "cell_type": "code",
      "execution_count": null,
      "metadata": {
        "id": "UiylF6F5mHRj"
      },
      "outputs": [],
      "source": [
        "c.execute('''INSERT INTO predictions (age, sex, bmi, children, smoker, region,\n",
        "              linear_regression_prediction, svr_prediction, decision_tree_prediction, best_model, email, name)\n",
        "              VALUES (?, ?, ?, ?, ?, ?, ?, ?, ?, ?, ?, ?)''',\n",
        "              (age, sex, bmi, children, smoker, region,\n",
        "              linear_regression_prediction, svr_prediction, decision_tree_prediction, best_model, email, name))"
      ]
    },
    {
      "cell_type": "code",
      "execution_count": null,
      "metadata": {
        "id": "PNWTCeiXI7sS"
      },
      "outputs": [],
      "source": [
        "c.close()\n",
        "conn.close()"
      ]
    },
    {
      "cell_type": "code",
      "execution_count": null,
      "metadata": {
        "id": "Y2NrwSogI9e1"
      },
      "outputs": [],
      "source": [
        "print(best_prediction)"
      ]
    },
    {
      "cell_type": "code",
      "execution_count": null,
      "metadata": {
        "id": "O-vLUTPuI_VY"
      },
      "outputs": [],
      "source": [
        "def jsonify_best_prediction(best_prediction):\n",
        "    return jsonify(best_prediction)"
      ]
    },
    {
      "cell_type": "code",
      "execution_count": null,
      "metadata": {
        "colab": {
          "base_uri": "https://localhost:8080/"
        },
        "id": "Ygz0ohjqJBnH",
        "outputId": "9834afb5-7e74-42bd-92fc-c7dede07494e"
      },
      "outputs": [
        {
          "metadata": {
            "tags": null
          },
          "name": "stdout",
          "output_type": "stream",
          "text": [
            " * Serving Flask app '__main__'\n",
            " * Debug mode: on\n"
          ]
        },
        {
          "metadata": {
            "tags": null
          },
          "name": "stderr",
          "output_type": "stream",
          "text": [
            "INFO:werkzeug:\u001b[31m\u001b[1mWARNING: This is a development server. Do not use it in a production deployment. Use a production WSGI server instead.\u001b[0m\n",
            " * Running on http://127.0.0.1:5000\n",
            "INFO:werkzeug:\u001b[33mPress CTRL+C to quit\u001b[0m\n",
            "INFO:werkzeug: * Restarting with stat\n"
          ]
        }
      ],
      "source": [
        "if __name__ == '__main__':\n",
        "    app.run(debug=True)"
      ]
    }
  ],
  "metadata": {
    "accelerator": "GPU",
    "colab": {
      "provenance": [],
      "gpuType": "T4",
      "authorship_tag": "ABX9TyNw42UKsCbfAO5yZl6+4DrH",
      "include_colab_link": true
    },
    "kernelspec": {
      "display_name": "Python 3",
      "name": "python3"
    },
    "language_info": {
      "name": "python"
    }
  },
  "nbformat": 4,
  "nbformat_minor": 0
}